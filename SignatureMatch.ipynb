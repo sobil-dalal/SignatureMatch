{
  "nbformat": 4,
  "nbformat_minor": 0,
  "metadata": {
    "colab": {
      "name": "SignatureMatch",
      "provenance": [],
      "collapsed_sections": [],
      "authorship_tag": "ABX9TyPrusZYTuBfxaTzqNYP4kzk",
      "include_colab_link": true
    },
    "kernelspec": {
      "name": "python3",
      "display_name": "Python 3"
    }
  },
  "cells": [
    {
      "cell_type": "markdown",
      "metadata": {
        "id": "view-in-github",
        "colab_type": "text"
      },
      "source": [
        "<a href=\"https://colab.research.google.com/github/sobil-dalal/SignatureMatch/blob/main/SignatureMatch.ipynb\" target=\"_parent\"><img src=\"https://colab.research.google.com/assets/colab-badge.svg\" alt=\"Open In Colab\"/></a>"
      ]
    },
    {
      "cell_type": "markdown",
      "metadata": {
        "id": "QhvkfHfzw3r_"
      },
      "source": [
        "## Clone the repository"
      ]
    },
    {
      "cell_type": "code",
      "metadata": {
        "id": "9xFcS8zYw2ZI",
        "outputId": "fa2e94f1-4ebf-4d95-ef60-bf1da060bb3f",
        "colab": {
          "base_uri": "https://localhost:8080/"
        }
      },
      "source": [
        "! git clone https://github.com/sobil-dalal/SignatureMatch.git"
      ],
      "execution_count": 1,
      "outputs": [
        {
          "output_type": "stream",
          "text": [
            "Cloning into 'SignatureMatch'...\n",
            "remote: Enumerating objects: 8, done.\u001b[K\n",
            "remote: Counting objects: 100% (8/8), done.\u001b[K\n",
            "remote: Compressing objects: 100% (6/6), done.\u001b[K\n",
            "remote: Total 8 (delta 0), reused 8 (delta 0), pack-reused 0\u001b[K\n",
            "Unpacking objects: 100% (8/8), done.\n"
          ],
          "name": "stdout"
        }
      ]
    },
    {
      "cell_type": "markdown",
      "metadata": {
        "id": "aalAP7BE3zhU"
      },
      "source": [
        "## Changing working directory location to SignatureMatch directory"
      ]
    },
    {
      "cell_type": "code",
      "metadata": {
        "id": "46zIacj839ZX"
      },
      "source": [
        "import os\n",
        "os.chdir(\"/content/SignatureMatch\")"
      ],
      "execution_count": 2,
      "outputs": []
    },
    {
      "cell_type": "markdown",
      "metadata": {
        "id": "gx368U7kuUJF"
      },
      "source": [
        "## Load Package"
      ]
    },
    {
      "cell_type": "code",
      "metadata": {
        "id": "t4YtPYWFtFLb"
      },
      "source": [
        "from keras.models import Sequential\n",
        "from keras.layers import Conv2D, ZeroPadding2D, Activation, Input, concatenate\n",
        "from keras.models import Model\n",
        "from keras.layers.normalization import BatchNormalization\n",
        "from keras.layers.pooling import MaxPooling2D, AveragePooling2D\n",
        "from keras.layers.merge import Concatenate\n",
        "from keras.layers.core import Lambda, Flatten, Dense\n",
        "from keras.initializers import glorot_uniform\n",
        "from keras.engine.topology import Layer\n",
        "from keras import backend as K\n",
        "K.set_image_data_format('channels_first')\n",
        "import cv2\n",
        "import os\n",
        "import numpy as np\n",
        "from numpy import genfromtxt\n",
        "import pandas as pd\n",
        "import tensorflow as tf\n",
        "import sys\n",
        "from fr_utils import *\n",
        "from inception_blocks_v2 import *\n",
        "\n",
        "%matplotlib inline\n",
        "%load_ext autoreload\n",
        "%autoreload 2\n",
        "\n",
        "np.set_printoptions(threshold=sys.maxsize)"
      ],
      "execution_count": 3,
      "outputs": []
    },
    {
      "cell_type": "code",
      "metadata": {
        "id": "gjiJvMDJzXXx",
        "outputId": "1bd4867b-a055-4cdd-a151-c460b05d37e3",
        "colab": {
          "base_uri": "https://localhost:8080/"
        }
      },
      "source": [
        "import keras as kr\n",
        "print(tf.__version__)\n",
        "print(kr.__version__)"
      ],
      "execution_count": 4,
      "outputs": [
        {
          "output_type": "stream",
          "text": [
            "2.3.0\n",
            "2.4.3\n"
          ],
          "name": "stdout"
        }
      ]
    },
    {
      "cell_type": "markdown",
      "metadata": {
        "id": "FXM2bJC7RUzY"
      },
      "source": [
        "## Load Dataset"
      ]
    },
    {
      "cell_type": "code",
      "metadata": {
        "id": "mCnN04XVRW5Q",
        "outputId": "152ce3a8-1879-4c43-f41a-e63a1dbad29d",
        "colab": {
          "base_uri": "https://localhost:8080/"
        }
      },
      "source": [
        "!wget http://www.iapr-tc11.org/dataset/ICDAR_SignatureVerification/SigComp2011/sigComp2011-trainingSet.zip"
      ],
      "execution_count": 5,
      "outputs": [
        {
          "output_type": "stream",
          "text": [
            "--2020-11-06 00:52:00--  http://www.iapr-tc11.org/dataset/ICDAR_SignatureVerification/SigComp2011/sigComp2011-trainingSet.zip\n",
            "Resolving www.iapr-tc11.org (www.iapr-tc11.org)... 157.16.221.56\n",
            "Connecting to www.iapr-tc11.org (www.iapr-tc11.org)|157.16.221.56|:80... connected.\n",
            "HTTP request sent, awaiting response... 200 OK\n",
            "Length: 245154271 (234M) [application/zip]\n",
            "Saving to: ‘sigComp2011-trainingSet.zip’\n",
            "\n",
            "sigComp2011-trainin 100%[===================>] 233.80M  17.6MB/s    in 15s     \n",
            "\n",
            "2020-11-06 00:52:15 (16.1 MB/s) - ‘sigComp2011-trainingSet.zip’ saved [245154271/245154271]\n",
            "\n"
          ],
          "name": "stdout"
        }
      ]
    },
    {
      "cell_type": "code",
      "metadata": {
        "id": "J0VEAKNuCsCZ",
        "outputId": "b407e6a9-9153-4bfb-beea-16826ac4875c",
        "colab": {
          "base_uri": "https://localhost:8080/",
          "height": 37
        }
      },
      "source": [
        "os.getcwd()"
      ],
      "execution_count": 8,
      "outputs": [
        {
          "output_type": "execute_result",
          "data": {
            "application/vnd.google.colaboratory.intrinsic+json": {
              "type": "string"
            },
            "text/plain": [
              "'/content/SignatureMatch'"
            ]
          },
          "metadata": {
            "tags": []
          },
          "execution_count": 8
        }
      ]
    },
    {
      "cell_type": "code",
      "metadata": {
        "id": "LdYfuiGZB4vM"
      },
      "source": [
        "import zipfile\n",
        "zip_ref = zipfile.ZipFile('sigComp2011-trainingSet.zip', 'r')\n",
        "zip_ref.extractall(os.getcwd(),pwd='I hereby accept the SigComp 2011 disclaimer.'.encode())\n",
        "zip_ref.close()"
      ],
      "execution_count": 12,
      "outputs": []
    },
    {
      "cell_type": "code",
      "metadata": {
        "id": "Y3vtn1uG__w-",
        "outputId": "31e488f9-3594-4112-a445-9d6791fbcc95",
        "colab": {
          "base_uri": "https://localhost:8080/"
        }
      },
      "source": [
        "!wget http://www.iapr-tc11.org/dataset/ICDAR_SignatureVerification/SigComp2011/sigComp2011-test.zip"
      ],
      "execution_count": 17,
      "outputs": [
        {
          "output_type": "stream",
          "text": [
            "--2020-11-06 00:41:26--  http://www.iapr-tc11.org/dataset/ICDAR_SignatureVerification/SigComp2011/sigComp2011-test.zip\n",
            "Resolving www.iapr-tc11.org (www.iapr-tc11.org)... 157.16.221.56\n",
            "Connecting to www.iapr-tc11.org (www.iapr-tc11.org)|157.16.221.56|:80... connected.\n",
            "HTTP request sent, awaiting response... 200 OK\n",
            "Length: 566029024 (540M) [application/zip]\n",
            "Saving to: ‘sigComp2011-test.zip’\n",
            "\n",
            "sigComp2011-test.zi 100%[===================>] 539.81M  16.8MB/s    in 34s     \n",
            "\n",
            "2020-11-06 00:42:00 (16.1 MB/s) - ‘sigComp2011-test.zip’ saved [566029024/566029024]\n",
            "\n"
          ],
          "name": "stdout"
        }
      ]
    },
    {
      "cell_type": "markdown",
      "metadata": {
        "id": "rt0T1xGcaXyJ"
      },
      "source": [
        "## Centring the image"
      ]
    },
    {
      "cell_type": "code",
      "metadata": {
        "id": "-2XBS4RdaXL2"
      },
      "source": [
        "def Center(img, new_height, new_width):\n",
        "    cImg = 255*np.ones((new_height,new_width,3))\n",
        "    width =  np.size(img,1)\n",
        "    height = np.size(img,0)\n",
        "\n",
        "    left = int((new_width - width)/2.)\n",
        "    top = int(((new_height - height)/2.))\n",
        "    right = int(((width + new_width)/2.))\n",
        "    bottom = int(((height + new_height)/2.))\n",
        "    cImg[top:bottom, left:right,:] = img\n",
        "    return cImg"
      ],
      "execution_count": 13,
      "outputs": []
    },
    {
      "cell_type": "markdown",
      "metadata": {
        "id": "6-dg9_Awai59"
      },
      "source": [
        "## Creating the dataset from only Dutch offline images"
      ]
    },
    {
      "cell_type": "code",
      "metadata": {
        "id": "s5EHtpveatLy",
        "outputId": "287249ff-a1ba-4aa7-8c7a-fcb327f06463",
        "colab": {
          "base_uri": "https://localhost:8080/"
        }
      },
      "source": [
        "x = []\n",
        "y = []\n",
        "\n",
        "j = k = 1\n",
        "arr = []\n",
        "pathDutchGenuine = os.listdir('trainingSet/OfflineSignatures/Dutch/TrainingSet/Offline Genuine/')\n",
        "pathDutchGenuine.sort(key=str.lower)\n",
        "print(len(pathDutchGenuine))"
      ],
      "execution_count": 27,
      "outputs": [
        {
          "output_type": "stream",
          "text": [
            "239\n"
          ],
          "name": "stdout"
        }
      ]
    },
    {
      "cell_type": "code",
      "metadata": {
        "id": "Zd9ksve3jHg-",
        "outputId": "dd5d8819-40bd-45c5-c3ef-b851c0dddb31",
        "colab": {
          "base_uri": "https://localhost:8080/"
        }
      },
      "source": [
        "pathDutchGenuine"
      ],
      "execution_count": 26,
      "outputs": [
        {
          "output_type": "execute_result",
          "data": {
            "text/plain": [
              "['001_01.PNG',\n",
              " '001_02.PNG',\n",
              " '001_03.PNG',\n",
              " '001_04.PNG',\n",
              " '001_05.PNG',\n",
              " '001_06.PNG',\n",
              " '001_07.PNG',\n",
              " '001_08.PNG',\n",
              " '001_09.PNG',\n",
              " '001_10.PNG',\n",
              " '001_11.PNG',\n",
              " '001_12.PNG',\n",
              " '001_13.PNG',\n",
              " '001_14.PNG',\n",
              " '001_15.PNG',\n",
              " '001_16.PNG',\n",
              " '001_17.PNG',\n",
              " '001_18.PNG',\n",
              " '001_19.PNG',\n",
              " '001_20.PNG',\n",
              " '001_21.PNG',\n",
              " '001_22.PNG',\n",
              " '001_23.PNG',\n",
              " '001_24.PNG',\n",
              " '002_01.PNG',\n",
              " '002_02.PNG',\n",
              " '002_03.PNG',\n",
              " '002_04.PNG',\n",
              " '002_05.PNG',\n",
              " '002_06.PNG',\n",
              " '002_07.PNG',\n",
              " '002_08.PNG',\n",
              " '002_09.PNG',\n",
              " '002_10.PNG',\n",
              " '002_11.PNG',\n",
              " '002_12.PNG',\n",
              " '002_13.PNG',\n",
              " '002_14.PNG',\n",
              " '002_15.PNG',\n",
              " '002_16.PNG',\n",
              " '002_17.PNG',\n",
              " '002_18.PNG',\n",
              " '002_19.PNG',\n",
              " '002_20.PNG',\n",
              " '002_21.PNG',\n",
              " '002_22.PNG',\n",
              " '002_23.PNG',\n",
              " '002_24.PNG',\n",
              " '003_01.PNG',\n",
              " '003_02.PNG',\n",
              " '003_03.PNG',\n",
              " '003_04.PNG',\n",
              " '003_05.PNG',\n",
              " '003_06.PNG',\n",
              " '003_07.PNG',\n",
              " '003_08.PNG',\n",
              " '003_09.PNG',\n",
              " '003_10.PNG',\n",
              " '003_11.PNG',\n",
              " '003_12.PNG',\n",
              " '003_13.PNG',\n",
              " '003_14.PNG',\n",
              " '003_15.PNG',\n",
              " '003_16.PNG',\n",
              " '003_17.PNG',\n",
              " '003_18.PNG',\n",
              " '003_19.PNG',\n",
              " '003_20.PNG',\n",
              " '003_21.PNG',\n",
              " '003_22.PNG',\n",
              " '003_23.PNG',\n",
              " '003_24.PNG',\n",
              " '004_01.PNG',\n",
              " '004_02.PNG',\n",
              " '004_03.PNG',\n",
              " '004_04.PNG',\n",
              " '004_05.PNG',\n",
              " '004_06.PNG',\n",
              " '004_07.PNG',\n",
              " '004_08.PNG',\n",
              " '004_09.PNG',\n",
              " '004_10.PNG',\n",
              " '004_11.PNG',\n",
              " '004_12.PNG',\n",
              " '004_13.PNG',\n",
              " '004_14.PNG',\n",
              " '004_15.PNG',\n",
              " '004_16.PNG',\n",
              " '004_17.PNG',\n",
              " '004_18.PNG',\n",
              " '004_19.PNG',\n",
              " '004_20.PNG',\n",
              " '004_21.PNG',\n",
              " '004_22.PNG',\n",
              " '004_23.PNG',\n",
              " '004_24.PNG',\n",
              " '006_01.PNG',\n",
              " '006_02.PNG',\n",
              " '006_03.PNG',\n",
              " '006_04.PNG',\n",
              " '006_05.PNG',\n",
              " '006_06.PNG',\n",
              " '006_07.PNG',\n",
              " '006_08.PNG',\n",
              " '006_09.PNG',\n",
              " '006_10.PNG',\n",
              " '006_11.PNG',\n",
              " '006_12.PNG',\n",
              " '006_13.PNG',\n",
              " '006_14.PNG',\n",
              " '006_15.PNG',\n",
              " '006_16.PNG',\n",
              " '006_17.PNG',\n",
              " '006_18.PNG',\n",
              " '006_19.PNG',\n",
              " '006_20.PNG',\n",
              " '006_21.PNG',\n",
              " '006_22.PNG',\n",
              " '006_23.PNG',\n",
              " '006_24.PNG',\n",
              " '009_01.PNG',\n",
              " '009_02.PNG',\n",
              " '009_03.PNG',\n",
              " '009_04.PNG',\n",
              " '009_05.PNG',\n",
              " '009_06.PNG',\n",
              " '009_07.PNG',\n",
              " '009_08.PNG',\n",
              " '009_09.PNG',\n",
              " '009_10.PNG',\n",
              " '009_11.PNG',\n",
              " '009_12.PNG',\n",
              " '009_13.PNG',\n",
              " '009_14.PNG',\n",
              " '009_15.PNG',\n",
              " '009_16.PNG',\n",
              " '009_17.PNG',\n",
              " '009_18.PNG',\n",
              " '009_19.PNG',\n",
              " '009_20.PNG',\n",
              " '009_21.PNG',\n",
              " '009_22.PNG',\n",
              " '009_23.PNG',\n",
              " '009_24.PNG',\n",
              " '012_01.PNG',\n",
              " '012_02.PNG',\n",
              " '012_03.PNG',\n",
              " '012_04.PNG',\n",
              " '012_05.PNG',\n",
              " '012_06.PNG',\n",
              " '012_07.PNG',\n",
              " '012_08.PNG',\n",
              " '012_09.PNG',\n",
              " '012_10.PNG',\n",
              " '012_11.PNG',\n",
              " '012_12.PNG',\n",
              " '012_13.PNG',\n",
              " '012_14.PNG',\n",
              " '012_15.PNG',\n",
              " '012_16.PNG',\n",
              " '012_17.PNG',\n",
              " '012_18.PNG',\n",
              " '012_19.PNG',\n",
              " '012_20.PNG',\n",
              " '012_21.PNG',\n",
              " '012_22.PNG',\n",
              " '012_23.PNG',\n",
              " '012_24.PNG',\n",
              " '014_01.PNG',\n",
              " '014_02.PNG',\n",
              " '014_03.PNG',\n",
              " '014_04.PNG',\n",
              " '014_05.PNG',\n",
              " '014_06.PNG',\n",
              " '014_07.PNG',\n",
              " '014_08.PNG',\n",
              " '014_09.PNG',\n",
              " '014_10.PNG',\n",
              " '014_11.PNG',\n",
              " '014_12.PNG',\n",
              " '014_13.PNG',\n",
              " '014_14.PNG',\n",
              " '014_15.PNG',\n",
              " '014_16.PNG',\n",
              " '014_17.PNG',\n",
              " '014_18.PNG',\n",
              " '014_19.PNG',\n",
              " '014_20.PNG',\n",
              " '014_21.PNG',\n",
              " '014_22.PNG',\n",
              " '014_23.PNG',\n",
              " '014_24.PNG',\n",
              " '015_01.PNG',\n",
              " '015_02.PNG',\n",
              " '015_03.PNG',\n",
              " '015_04.PNG',\n",
              " '015_05.PNG',\n",
              " '015_06.PNG',\n",
              " '015_07.PNG',\n",
              " '015_08.PNG',\n",
              " '015_09.PNG',\n",
              " '015_10.PNG',\n",
              " '015_11.PNG',\n",
              " '015_12.PNG',\n",
              " '015_13.PNG',\n",
              " '015_14.PNG',\n",
              " '015_15.PNG',\n",
              " '015_16.PNG',\n",
              " '015_17.PNG',\n",
              " '015_18.PNG',\n",
              " '015_19.PNG',\n",
              " '015_20.PNG',\n",
              " '015_21.PNG',\n",
              " '015_22.PNG',\n",
              " '015_23.PNG',\n",
              " '015_24.PNG',\n",
              " '016_01.PNG',\n",
              " '016_02.PNG',\n",
              " '016_03.PNG',\n",
              " '016_04.PNG',\n",
              " '016_05.PNG',\n",
              " '016_06.PNG',\n",
              " '016_07.PNG',\n",
              " '016_08.PNG',\n",
              " '016_09.PNG',\n",
              " '016_10.PNG',\n",
              " '016_11.PNG',\n",
              " '016_12.PNG',\n",
              " '016_13.PNG',\n",
              " '016_14.PNG',\n",
              " '016_15.PNG',\n",
              " '016_16.PNG',\n",
              " '016_17.PNG',\n",
              " '016_18.PNG',\n",
              " '016_20.PNG',\n",
              " '016_21.PNG',\n",
              " '016_22.PNG',\n",
              " '016_23.PNG',\n",
              " '016_24.PNG']"
            ]
          },
          "metadata": {
            "tags": []
          },
          "execution_count": 26
        }
      ]
    },
    {
      "cell_type": "code",
      "metadata": {
        "id": "UcEg5-88i_0g",
        "outputId": "8eaccd7b-a18e-464b-a481-cb0ed3c4cc08",
        "colab": {
          "base_uri": "https://localhost:8080/"
        }
      },
      "source": [
        "pathDutchForgeries = os.listdir('trainingSet/OfflineSignatures/Dutch/TrainingSet/Offline Forgeries/')\n",
        "pathDutchForgeries.sort(key=str.lower)\n",
        "print(len(pathDutchForgeries))"
      ],
      "execution_count": 29,
      "outputs": [
        {
          "output_type": "stream",
          "text": [
            "123\n"
          ],
          "name": "stdout"
        }
      ]
    },
    {
      "cell_type": "code",
      "metadata": {
        "id": "AGy-NgoajPTk",
        "outputId": "1c992e57-066e-4cc8-fa63-12a7d9bcf9ca",
        "colab": {
          "base_uri": "https://localhost:8080/"
        }
      },
      "source": [
        "pathDutchForgeries"
      ],
      "execution_count": 30,
      "outputs": [
        {
          "output_type": "execute_result",
          "data": {
            "text/plain": [
              "['0102014_01.png',\n",
              " '0102014_02.png',\n",
              " '0102014_03.png',\n",
              " '0102014_04.png',\n",
              " '0103004_02.png',\n",
              " '0103004_03.png',\n",
              " '0103004_04.png',\n",
              " '0104014_01.png',\n",
              " '0104014_02.png',\n",
              " '0104014_03.png',\n",
              " '0104014_04.png',\n",
              " '0105004_01.png',\n",
              " '0105004_02.png',\n",
              " '0105004_03.png',\n",
              " '0105004_04.png',\n",
              " '0106015_01.png',\n",
              " '0106015_02.png',\n",
              " '0106015_03.png',\n",
              " '0106015_04.png',\n",
              " '0107016_01.png',\n",
              " '0107016_02.png',\n",
              " '0107016_03.png',\n",
              " '0107016_04.png',\n",
              " '0108002_01.png',\n",
              " '0108002_02.png',\n",
              " '0108002_03.png',\n",
              " '0108002_04.png',\n",
              " '0110002_01.png',\n",
              " '0110002_02.png',\n",
              " '0110002_03.png',\n",
              " '0110002_04.png',\n",
              " '0110016_01.png',\n",
              " '0110016_02.png',\n",
              " '0110016_03.png',\n",
              " '0110016_04.png',\n",
              " '0111006_01.png',\n",
              " '0111006_02.png',\n",
              " '0111006_03.png',\n",
              " '0111006_04.png',\n",
              " '0113012_01.png',\n",
              " '0113012_02.png',\n",
              " '0113012_03.png',\n",
              " '0113012_04.png',\n",
              " '0117009_01.png',\n",
              " '0117009_02.png',\n",
              " '0117009_03.png',\n",
              " '0117009_04.png',\n",
              " '0118002_01.png',\n",
              " '0118002_02.png',\n",
              " '0118002_03.png',\n",
              " '0118002_04.png',\n",
              " '0119001_01.png',\n",
              " '0119001_02.png',\n",
              " '0119001_03.png',\n",
              " '0119001_04.png',\n",
              " '0121003_01.png',\n",
              " '0121003_02.png',\n",
              " '0121003_03.png',\n",
              " '0121003_04.png',\n",
              " '0123009_01.png',\n",
              " '0123009_02.png',\n",
              " '0123009_03.png',\n",
              " '0123009_04.png',\n",
              " '0124004_01.png',\n",
              " '0124004_02.png',\n",
              " '0124004_03.png',\n",
              " '0124004_04.png',\n",
              " '0126003_01.png',\n",
              " '0126003_02.png',\n",
              " '0126003_03.png',\n",
              " '0126003_04.png',\n",
              " '0127016_01.png',\n",
              " '0127016_02.png',\n",
              " '0127016_03.png',\n",
              " '0127016_04.png',\n",
              " '0201001_01.png',\n",
              " '0201001_02.png',\n",
              " '0201001_03.png',\n",
              " '0201001_04.png',\n",
              " '0201009_01.png',\n",
              " '0201009_02.png',\n",
              " '0201009_03.png',\n",
              " '0201009_04.png',\n",
              " '0202006_01.png',\n",
              " '0202006_02.png',\n",
              " '0202006_03.png',\n",
              " '0202006_04.png',\n",
              " '0202016_01.png',\n",
              " '0202016_02.png',\n",
              " '0202016_03.png',\n",
              " '0202016_04.png',\n",
              " '0205006_01.png',\n",
              " '0205006_02.png',\n",
              " '0205006_03.png',\n",
              " '0205006_04.png',\n",
              " '0206003_01.png',\n",
              " '0206003_02.png',\n",
              " '0206003_03.png',\n",
              " '0206003_04.png',\n",
              " '0206012_01.png',\n",
              " '0206012_02.png',\n",
              " '0206012_03.png',\n",
              " '0206012_04.png',\n",
              " '0208014_01.png',\n",
              " '0208014_02.png',\n",
              " '0208014_03.png',\n",
              " '0208014_04.png',\n",
              " '0210012_01.png',\n",
              " '0210012_02.png',\n",
              " '0210012_03.png',\n",
              " '0210012_04.png',\n",
              " '0210015_01.png',\n",
              " '0210015_02.png',\n",
              " '0210015_03.png',\n",
              " '0210015_04.png',\n",
              " '0213015_01.png',\n",
              " '0213015_02.png',\n",
              " '0213015_03.png',\n",
              " '0213015_04.png',\n",
              " '0214014_01.png',\n",
              " '0214014_02.png',\n",
              " '0214014_03.png',\n",
              " '0214014_04.png']"
            ]
          },
          "metadata": {
            "tags": []
          },
          "execution_count": 30
        }
      ]
    },
    {
      "cell_type": "code",
      "metadata": {
        "id": "bsBlcyuKbiyc"
      },
      "source": [
        "for i in range(len(path)):\n",
        "    if(path[i][2] == str(j)):\n",
        "        img = cv2.imread('trainingSet/OfflineSignatures/Chinese/TrainingSet/Offline Genuine/'+path[i]+'')\n",
        "        #img  = cv2.cvtColor(img,cv2.COLOR_RGB2GRAY)\n",
        "        a = np.asarray(img)\n",
        "        a = Center(a,551,1117)\n",
        "        x.append(a)\n",
        "        y1 = np.zeros((10))\n",
        "        y1[j-1] = 1\n",
        "        y.append(y1)\n",
        "        k =k + 1\n",
        "    elif(j<10):\n",
        "        j = j + 1\n",
        "        print('j='+str(j))\n",
        "    else:\n",
        "        img = cv2.imread('trainingSet/OfflineSignatures/Chinese/TrainingSet/Offline Genuine/'+path[i]+'')\n",
        "        #img = cv2.cvtColor(img,cv2.COLOR_RGB2GRAY)\n",
        "        a = np.asarray(img)\n",
        "        a = Center(a,551,1117)\n",
        "        x.append(a)\n",
        "        y1 = np.zeros((10))\n",
        "        y1[j-1] = 1\n",
        "        y.append(y1)\n",
        "        k =k+1\n",
        "print('k='+str(k))"
      ],
      "execution_count": null,
      "outputs": []
    },
    {
      "cell_type": "markdown",
      "metadata": {
        "id": "1GGFfYZ41FJ1"
      },
      "source": [
        "## Load Model"
      ]
    },
    {
      "cell_type": "code",
      "metadata": {
        "id": "RFhKF2yz0OLW"
      },
      "source": [
        "FRmodel = faceRecoModel(input_shape=(3, 96, 96))"
      ],
      "execution_count": 11,
      "outputs": []
    },
    {
      "cell_type": "code",
      "metadata": {
        "id": "HoFalG-OOuZA",
        "outputId": "b073e5ba-d0a4-4e58-86ba-79ab1d50ae05",
        "colab": {
          "base_uri": "https://localhost:8080/"
        }
      },
      "source": [
        "print(\"Total Params:\", FRmodel.count_params())"
      ],
      "execution_count": 12,
      "outputs": [
        {
          "output_type": "stream",
          "text": [
            "Total Params: 3743280\n"
          ],
          "name": "stdout"
        }
      ]
    },
    {
      "cell_type": "markdown",
      "metadata": {
        "id": "B7ccRa4VQYo3"
      },
      "source": [
        "## Implement triplet loss function\n",
        "\n",
        "\n",
        "\n",
        "For an image $x$, we denote its encoding $f(x)$, where $f$ is the function computed by the neural network.\n",
        "\n",
        "\n",
        "\n",
        "<!--\n",
        "We will also add a normalization step at the end of our model so that $\\mid \\mid f(x) \\mid \\mid_2 = 1$ (means the vector of encoding should be of norm 1).\n",
        "!-->\n",
        "\n",
        "Training will use triplets of images $(A, P, N)$:  \n",
        "\n",
        "- A is an \"Anchor\" image--a picture of a person. \n",
        "- P is a \"Positive\" image--a picture of the same person as the Anchor image.\n",
        "- N is a \"Negative\" image--a picture of a different person than the Anchor image.\n",
        "\n",
        "These triplets are picked from our training dataset. We will write $(A^{(i)}, P^{(i)}, N^{(i)})$ to denote the $i$-th training example. \n",
        "\n",
        "You'd like to make sure that an image $A^{(i)}$ of an individual is closer to the Positive $P^{(i)}$ than to the Negative image $N^{(i)}$) by at least a margin $\\alpha$:\n",
        "\n",
        "$$\\mid \\mid f(A^{(i)}) - f(P^{(i)}) \\mid \\mid_2^2 + \\alpha < \\mid \\mid f(A^{(i)}) - f(N^{(i)}) \\mid \\mid_2^2$$\n",
        "\n",
        "You would thus like to minimize the following \"triplet cost\":\n",
        "\n",
        "$$\\mathcal{J} = \\sum^{m}_{i=1} \\large[ \\small \\underbrace{\\mid \\mid f(A^{(i)}) - f(P^{(i)}) \\mid \\mid_2^2}_\\text{(1)} - \\underbrace{\\mid \\mid f(A^{(i)}) - f(N^{(i)}) \\mid \\mid_2^2}_\\text{(2)} + \\alpha \\large ] \\small_+ \\tag{3}$$\n",
        "\n",
        "Here, we are using the notation \"$[z]_+$\" to denote $max(z,0)$.  \n",
        "\n",
        "Notes:\n",
        "- The term (1) is the squared distance between the anchor \"A\" and the positive \"P\" for a given triplet; you want this to be small. \n",
        "- The term (2) is the squared distance between the anchor \"A\" and the negative \"N\" for a given triplet, you want this to be relatively large. It has a minus sign preceding it because minimizing the negative of the term is the same as maximizing that term.\n",
        "- $\\alpha$ is called the margin. It is a hyperparameter that you pick manually. We will use $\\alpha = 0.2$. \n",
        "\n",
        "Most implementations also rescale the encoding vectors to haven L2 norm equal to one (i.e., $\\mid \\mid f(img)\\mid \\mid_2$=1)."
      ]
    },
    {
      "cell_type": "code",
      "metadata": {
        "id": "q9AHT8MDQeNU"
      },
      "source": [
        "def triplet_loss(y_true, y_pred, alpha = 0.2):\n",
        "    \"\"\"\n",
        "    Implementation of the triplet loss as defined by formula\n",
        "    \n",
        "    Arguments:\n",
        "    y_true -- true labels, required when you define a loss in Keras, you don't need it in this function.\n",
        "    y_pred -- python list containing three objects:\n",
        "            anchor -- the encodings for the anchor images, of shape (None, 128)\n",
        "            positive -- the encodings for the positive images, of shape (None, 128)\n",
        "            negative -- the encodings for the negative images, of shape (None, 128)\n",
        "    \n",
        "    Returns:\n",
        "    loss -- real number, value of the loss\n",
        "    \"\"\"\n",
        "    \n",
        "    anchor, positive, negative = y_pred[0], y_pred[1], y_pred[2]\n",
        "      \n",
        "    # Step 1: Compute the (encoding) distance between the anchor and the positive\n",
        "    pos_dist = tf.reduce_sum(tf.square(tf.subtract(anchor, positive)), axis=-1)\n",
        "    # Step 2: Compute the (encoding) distance between the anchor and the negative\n",
        "    neg_dist = tf.reduce_sum(tf.square(tf.subtract(anchor, negative)), axis=-1)\n",
        "    # Step 3: subtract the two previous distances and add alpha.\n",
        "    basic_loss = tf.add(tf.subtract(pos_dist, neg_dist), alpha)\n",
        "    # Step 4: Take the maximum of basic_loss and 0.0. Sum over the training examples.\n",
        "    loss = tf.reduce_sum(tf.maximum(basic_loss, 0))\n",
        "    \n",
        "    return loss"
      ],
      "execution_count": 13,
      "outputs": []
    },
    {
      "cell_type": "markdown",
      "metadata": {
        "id": "SHYIiEXKQIng"
      },
      "source": [
        "## Train Model"
      ]
    },
    {
      "cell_type": "code",
      "metadata": {
        "id": "Bl1HB8OiQOa7"
      },
      "source": [
        "FRmodel.compile(optimizer = 'adam', loss = triplet_loss, metrics = ['accuracy'])"
      ],
      "execution_count": 15,
      "outputs": []
    }
  ]
}